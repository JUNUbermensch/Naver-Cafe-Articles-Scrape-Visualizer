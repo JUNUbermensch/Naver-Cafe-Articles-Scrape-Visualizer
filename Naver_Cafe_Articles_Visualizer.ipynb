{
 "cells": [
  {
   "cell_type": "code",
   "execution_count": 1,
   "id": "526128d3-2e34-483a-9f67-f49ef8866db6",
   "metadata": {
    "tags": []
   },
   "outputs": [],
   "source": [
    "user_agent = ''\n",
    "# Type your user agent in \"\"\n",
    "# your user agent can be found here: https://www.whatismybrowser.com/detect/what-is-my-user-agent/"
   ]
  },
  {
   "cell_type": "code",
   "execution_count": 2,
   "id": "6fd586d6-2d12-495e-a17b-e66b9bf2fc39",
   "metadata": {
    "tags": []
   },
   "outputs": [],
   "source": [
    "from bs4 import BeautifulSoup as bs\n",
    "from collections import Counter\n",
    "from konlpy.tag import Hannanum\n",
    "from tqdm import tqdm\n",
    "import aiohttp\n",
    "import asyncio\n",
    "import random\n",
    "import requests\n",
    "import time\n",
    "import re\n",
    "import matplotlib.pyplot as plt"
   ]
  },
  {
   "cell_type": "code",
   "execution_count": 5,
   "id": "41fab1d1-f59d-4306-9fff-b85afc4b6484",
   "metadata": {
    "tags": []
   },
   "outputs": [
    {
     "name": "stderr",
     "output_type": "stream",
     "text": [
      "100%|█████████████████████████████████████████████████████████████████████████████| 114/114 [00:00<00:00, 75848.77it/s]\n"
     ]
    }
   ],
   "source": [
    "import backoff  # Ensure you have the backoff package installed\n",
    "\n",
    "@backoff.on_exception(backoff.expo, aiohttp.ClientError, max_tries=5)\n",
    "async def fetch(session, url):\n",
    "    async with session.get(url) as response:\n",
    "        return await response.text()\n",
    "\n",
    "async def scrape_page(i, session):\n",
    "    pg = str(i)\n",
    "    try:\n",
    "        url = f\"https://cafe.naver.com/ArticleList.nhn?search.clubid=11262350&search.boardtype=L&search.totalCount=151&search.cafeId=11262350&search.page={pg}\"\n",
    "        html = await fetch(session, url)\n",
    "        soup = bs(html, \"lxml\")\n",
    "        articles = []\n",
    "        parsed_datas = soup.find_all(\"a\", {\"class\": \"article\"})\n",
    "        if not parsed_datas:\n",
    "            return []\n",
    "        for data in parsed_datas:\n",
    "            article_text = str(data).strip().replace(\"\\n\", \" \").replace(\"    \", \" \")\n",
    "            article_contents = re.findall(r'</span>(.*?)</a>', article_text)\n",
    "            if article_contents:\n",
    "                articles.append(article_contents[0].strip())\n",
    "        await asyncio.sleep(random.uniform(1, 5))  # Polite delay between requests\n",
    "        return articles\n",
    "    except Exception as e:\n",
    "        return [f\"An error occurred on page {pg}: {e}\"]\n",
    "\n",
    "async def main():\n",
    "    all_articles = []\n",
    "    async with aiohttp.ClientSession() as session:\n",
    "        tasks = [scrape_page(i, session) for i in tqdm(range(1, 115))]\n",
    "        results = await asyncio.gather(*tasks)\n",
    "        for articles in results:\n",
    "            all_articles.extend(articles)\n",
    "\n",
    "    with open('text.txt', 'w', encoding='utf-8') as file:\n",
    "        for article in all_articles:\n",
    "            file.write(article + '\\n')\n",
    "\n",
    "loop = asyncio.get_event_loop()\n",
    "if loop.is_running():\n",
    "    asyncio.ensure_future(main())\n",
    "else:\n",
    "    loop.run_until_complete(main())"
   ]
  },
  {
   "cell_type": "code",
   "execution_count": null,
   "id": "1496c72f-ede0-4670-8d97-e559744ff3bc",
   "metadata": {
    "tags": []
   },
   "outputs": [],
   "source": [
    "hannanum = Hannanum()\n",
    "words = []\n",
    "\n",
    "for article in articles:\n",
    "    nouns = hannanum.nouns(article)\n",
    "    words+=nouns\n",
    "\n",
    "print(len(words))"
   ]
  },
  {
   "cell_type": "code",
   "execution_count": null,
   "id": "168b59f8-8af3-4bff-9e45-85fc5d8102fe",
   "metadata": {},
   "outputs": [],
   "source": [
    "counter = Counter(words)"
   ]
  },
  {
   "cell_type": "code",
   "execution_count": null,
   "id": "1a7769ba-e090-45ca-9b6a-5efcbf1d30d9",
   "metadata": {},
   "outputs": [],
   "source": [
    "from wordcloud import WordCloud"
   ]
  },
  {
   "cell_type": "code",
   "execution_count": null,
   "id": "fffe02d8-231d-4b65-82a7-21dfcf743ea8",
   "metadata": {},
   "outputs": [],
   "source": [
    "img = WordCloud(font_path = r\"\", # Type your font's location\n",
    "    background_color=\"white\",\n",
    "    height = 1000,\n",
    "    width = 1000).generate_from_frequencies(counter)\n",
    "plt.imshow(img)"
   ]
  },
  {
   "cell_type": "code",
   "execution_count": null,
   "id": "ca39c1f4-9c3e-416b-bc2a-6907a47d4b1d",
   "metadata": {},
   "outputs": [],
   "source": []
  }
 ],
 "metadata": {
  "kernelspec": {
   "display_name": "Python 3",
   "language": "python",
   "name": "python3"
  },
  "language_info": {
   "codemirror_mode": {
    "name": "ipython",
    "version": 3
   },
   "file_extension": ".py",
   "mimetype": "text/x-python",
   "name": "python",
   "nbconvert_exporter": "python",
   "pygments_lexer": "ipython3",
   "version": "3.6.9"
  }
 },
 "nbformat": 4,
 "nbformat_minor": 5
}
