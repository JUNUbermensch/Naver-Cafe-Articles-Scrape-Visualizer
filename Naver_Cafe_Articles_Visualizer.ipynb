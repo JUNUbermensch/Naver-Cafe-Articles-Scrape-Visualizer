{
 "cells": [
  {
   "cell_type": "code",
   "execution_count": 1,
   "id": "526128d3-2e34-483a-9f67-f49ef8866db6",
   "metadata": {
    "tags": []
   },
   "outputs": [],
   "source": [
    "user_agent = ''\n",
    "# Type your user agent in \"\"\n",
    "# your user agent can be found here: https://www.whatismybrowser.com/detect/what-is-my-user-agent/"
   ]
  },
  {
   "cell_type": "code",
   "execution_count": 2,
   "id": "6fd586d6-2d12-495e-a17b-e66b9bf2fc39",
   "metadata": {
    "tags": []
   },
   "outputs": [],
   "source": [
    "from bs4 import BeautifulSoup as bs\n",
    "from collections import Counter\n",
    "from konlpy.tag import Hannanum\n",
    "from concurrent.futures import ThreadPoolExecutor\n",
    "from tqdm import tqdm\n",
    "import aiohttp\n",
    "import asyncio\n",
    "import random\n",
    "import requests\n",
    "import time\n",
    "import re\n",
    "import matplotlib.pyplot as plt"
   ]
  },
  {
   "cell_type": "code",
   "execution_count": null,
   "id": "41fab1d1-f59d-4306-9fff-b85afc4b6484",
   "metadata": {
    "tags": []
   },
   "outputs": [
    {
     "name": "stderr",
     "output_type": "stream",
     "text": [
      "  0%|                                                                        | 240/1150000 [08:09<285:38:40,  1.12it/s]"
     ]
    }
   ],
   "source": [
    "global articles\n",
    "\n",
    "def scrape_page(i):\n",
    "    pg = str(i)\n",
    "    time.sleep(random.uniform(1, 5))\n",
    "    try:\n",
    "        with requests.Session() as session:\n",
    "            res = session.get(f\"https://cafe.naver.com/ArticleList.nhn?search.clubid=11262350&search.boardtype=L&search.totalCount=151&search.cafeId=11262350&search.page={pg}\", headers={\"User-Agent\": user_agent})\n",
    "            if res.status_code == 200:\n",
    "                soup = bs(res.text, \"html.parser\")\n",
    "                articles = []\n",
    "                parsed_datas = soup.find_all(\"a\", {\"class\": \"article\"})\n",
    "                if not parsed_datas:\n",
    "                    return f\"No articles found on page {pg}\"\n",
    "                for data in parsed_datas:\n",
    "                    article_text = str(data).strip().replace(\"\\n\", \" \").replace(\"    \", \" \")\n",
    "                    article_contents = re.findall(r'</span>(.*?)</a>', article_text)\n",
    "                    if article_contents:\n",
    "                        articles.append(article_contents[0].strip())\n",
    "                return articles\n",
    "            else:\n",
    "                return []\n",
    "    except Exception as e:\n",
    "        return []\n",
    "\n",
    "articles = []\n",
    "cnt = 0\n",
    "with ThreadPoolExecutor(max_workers=10) as executor:  # Adjust max_workers as needed\n",
    "    for result in tqdm(executor.map(scrape_page, range(1, 1150000)), total=1150000):\n",
    "        cnt += 1\n",
    "        if isinstance(result, list):\n",
    "            articles.extend(result)\n",
    "            if cnt % 10000 == 0:\n",
    "                with open('text'+str(cnt//10000)+'.txt', 'w', encoding='utf-8') as file:\n",
    "                    for article in articles:\n",
    "                        file.write(article + '\\n')\n",
    "                articles = []\n",
    "        else:\n",
    "            print(result)\n",
    "\n",
    "# Saving the articles to a file after collecting\n",
    "\n",
    "print('done')"
   ]
  },
  {
   "cell_type": "code",
   "execution_count": null,
   "id": "1496c72f-ede0-4670-8d97-e559744ff3bc",
   "metadata": {
    "tags": []
   },
   "outputs": [],
   "source": [
    "hannanum = Hannanum()\n",
    "words = []\n",
    "\n",
    "for article in all_articles:\n",
    "    nouns = hannanum.nouns(article)\n",
    "    words+=nouns\n",
    "\n",
    "print(len(words))"
   ]
  },
  {
   "cell_type": "code",
   "execution_count": null,
   "id": "168b59f8-8af3-4bff-9e45-85fc5d8102fe",
   "metadata": {},
   "outputs": [],
   "source": [
    "counter = Counter(all_articles)"
   ]
  },
  {
   "cell_type": "code",
   "execution_count": null,
   "id": "1a7769ba-e090-45ca-9b6a-5efcbf1d30d9",
   "metadata": {},
   "outputs": [],
   "source": [
    "from wordcloud import WordCloud"
   ]
  },
  {
   "cell_type": "code",
   "execution_count": null,
   "id": "fffe02d8-231d-4b65-82a7-21dfcf743ea8",
   "metadata": {},
   "outputs": [],
   "source": [
    "img = WordCloud(font_path = r\"\", # Type your font's location\n",
    "    background_color=\"white\",\n",
    "    height = 1000,\n",
    "    width = 1000).generate_from_frequencies(counter)\n",
    "plt.imshow(img)"
   ]
  },
  {
   "cell_type": "code",
   "execution_count": null,
   "id": "ca39c1f4-9c3e-416b-bc2a-6907a47d4b1d",
   "metadata": {},
   "outputs": [],
   "source": []
  }
 ],
 "metadata": {
  "kernelspec": {
   "display_name": "Python 3",
   "language": "python",
   "name": "python3"
  },
  "language_info": {
   "codemirror_mode": {
    "name": "ipython",
    "version": 3
   },
   "file_extension": ".py",
   "mimetype": "text/x-python",
   "name": "python",
   "nbconvert_exporter": "python",
   "pygments_lexer": "ipython3",
   "version": "3.6.9"
  }
 },
 "nbformat": 4,
 "nbformat_minor": 5
}
